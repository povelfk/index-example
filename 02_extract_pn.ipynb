{
 "cells": [
  {
   "cell_type": "markdown",
   "id": "4ba56054",
   "metadata": {},
   "source": [
    "## **Extract content from Engineering Documents**"
   ]
  },
  {
   "cell_type": "code",
   "execution_count": 1,
   "id": "0dd5c670",
   "metadata": {},
   "outputs": [],
   "source": [
    "from azure.core.credentials import AzureKeyCredential\n",
    "from dotenv import dotenv_values\n",
    "\n",
    "config = dotenv_values(\".env\")\n",
    "\n",
    "azure_openai_api_key = config.get(\"AZURE_OPENAI_API_KEY\")\n",
    "azure_openai_endpoint = config.get(\"AZURE_OPENAI_API_BASE\")\n",
    "azure_openai_api_version = config.get(\"AZURE_OPENAI_API_VERSION\")\n",
    "azure_openai_chat_model = config.get(\"AZURE_OPENAI_MODEL\")\n",
    "azure_openai_embedding_model = config.get(\"AZURE_OPENAI_EMBEDDING_MODEL\")\n",
    "\n",
    "document_intelligence_key=config.get(\"document_intelligence_key\")\n",
    "document_intelligence_endpoint=config.get(\"document_intelligence_endpoint\")\n",
    "\n",
    "container_name = config.get(\"storage_container\")\n",
    "storage_base_url = config.get(\"storage_base_url\")\n",
    "connection_string = config.get(\"storage_connection_string\")"
   ]
  },
  {
   "cell_type": "code",
   "execution_count": 2,
   "id": "3c812332",
   "metadata": {},
   "outputs": [],
   "source": [
    "from azure.storage.blob import BlobServiceClient\n",
    "from azure.ai.documentintelligence import DocumentIntelligenceClient\n",
    "\n",
    "def initialize_blob_service_client(connection_string, container_name):\n",
    "    # Initialize the BlobServiceClient and returns the container client\n",
    "    blob_service_client = BlobServiceClient.from_connection_string(conn_str=connection_string)\n",
    "    container_client = blob_service_client.get_container_client(container_name)\n",
    "    return container_client\n",
    "\n",
    "def initialize_document_intelligence_client():\n",
    "    # Initialize the Document Intelligence client\n",
    "    document_intelligence_client = DocumentIntelligenceClient(\n",
    "        endpoint=document_intelligence_endpoint,\n",
    "        credential=AzureKeyCredential(document_intelligence_key)\n",
    "    )\n",
    "    return document_intelligence_client\n",
    "\n",
    "container_client = initialize_blob_service_client(connection_string, container_name)\n",
    "document_intelligence_client = initialize_document_intelligence_client()"
   ]
  },
  {
   "cell_type": "code",
   "execution_count": 12,
   "id": "ed19c6ab",
   "metadata": {},
   "outputs": [],
   "source": [
    "def download_blob_content(blob_client):\n",
    "    # Download the blob's content\n",
    "    download_stream = blob_client.download_blob()\n",
    "    blob_content = download_stream.readall()\n",
    "    return blob_content\n",
    "\n",
    "def analyze_document(document_intelligence_client, blob_content):\n",
    "    # Analyze the document using the Document Intelligence client\n",
    "    from azure.ai.documentintelligence.models import AnalyzeResult, AnalyzeOutputOption\n",
    "    poller = document_intelligence_client.begin_analyze_document(\n",
    "        model_id=\"prebuilt-layout\",\n",
    "        analyze_request=blob_content,\n",
    "        content_type=\"application/octet-stream\",  # Adjust based on your document type\n",
    "        output=[AnalyzeOutputOption.FIGURES]\n",
    "    )\n",
    "    result: AnalyzeResult = poller.result()\n",
    "    # operation_id = poller.details[\"operation_id\"]\n",
    "\n",
    "    # if result.figures:\n",
    "    #     for figure in result.figures:\n",
    "    #         if figure.id:\n",
    "    #             response = document_intelligence_client.get_analyze_result_figure(\n",
    "    #                 model_id=result.model_id, result_id=operation_id, figure_id=figure.id\n",
    "    #             )\n",
    "    #             with open(f\"data/figures/{figure.id}.png\", \"wb\") as writer:\n",
    "    #                 writer.writelines(response)\n",
    "    return result.content, result"
   ]
  },
  {
   "cell_type": "code",
   "execution_count": 13,
   "id": "6e47de2a",
   "metadata": {},
   "outputs": [
    {
     "name": "stderr",
     "output_type": "stream",
     "text": [
      "Processing Blobs: 100%|██████████| 2/2 [00:15<00:00,  7.87s/blob, Status=Finished]\n"
     ]
    }
   ],
   "source": [
    "from tqdm import tqdm\n",
    "\n",
    "documents = []\n",
    "\n",
    "blob_list = list(container_client.list_blobs())\n",
    "pdf_blob_list = [blob for blob in blob_list if blob.name.lower().endswith('.pdf')]\n",
    "\n",
    "with tqdm(total=len(pdf_blob_list), desc=\"Processing Blobs\", unit=\"blob\") as pbar:\n",
    "    for blob in pdf_blob_list:\n",
    "        blob_name = blob.name\n",
    "\n",
    "        blob_content = download_blob_content(blob_client = container_client.get_blob_client(blob_name))\n",
    "        if blob_content is None:\n",
    "            continue # Skip to the next blob if download failed\n",
    "\n",
    "        text_data, full_data = analyze_document(document_intelligence_client, blob_content)\n",
    "        if text_data is None:\n",
    "            continue # Skip to the next blob if analysis failed\n",
    "\n",
    "        documents.append({\n",
    "            \"filename\": blob_name,\n",
    "            \"data\": text_data,\n",
    "            \"url\": f\"{storage_base_url}/{container_name}/{blob_name}\"\n",
    "        })\n",
    "\n",
    "        pbar.update(1)\n",
    "    pbar.set_postfix({\"Status\": \"Finished\"})"
   ]
  },
  {
   "cell_type": "markdown",
   "id": "594eafdd",
   "metadata": {},
   "source": [
    "## **Extract Part Number from content**"
   ]
  },
  {
   "cell_type": "code",
   "execution_count": 5,
   "id": "57a9c944",
   "metadata": {},
   "outputs": [],
   "source": [
    "from pydantic import BaseModel, Field\n",
    "from typing import List\n",
    "\n",
    "class PartNumberExtraction(BaseModel):\n",
    "    \"\"\"\n",
    "    Structured output for part number extraction from AB Volvo engineering documents.\n",
    "    Only part numbers should be included—no extra text, labels, or duplicates.\n",
    "    A part number is typically a numeric string with exactly 8 digits (e.g., 11224344),\n",
    "    but alphanumeric formats may also exist depending on future updates.\n",
    "    \"\"\"\n",
    "    part_numbers: List[str] = Field(\n",
    "        ...,\n",
    "        description=\"A list of unique part numbers found in the document text, formatted as numeric strings (e.g., 11224344). If no part numbers are found, return an empty list.\",\n",
    "    )"
   ]
  },
  {
   "cell_type": "code",
   "execution_count": null,
   "id": "def5f1a1",
   "metadata": {},
   "outputs": [],
   "source": [
    "def create_user_message(document_text: str):\n",
    "    return f\"\"\"\n",
    "        Here is the extracted text from an engineering document. \n",
    "        Please identify and extract all part numbers mentioned in the content.\\n\\n\n",
    "        {document_text}\"\"\".strip()"
   ]
  },
  {
   "cell_type": "code",
   "execution_count": null,
   "id": "09ada9f8",
   "metadata": {},
   "outputs": [],
   "source": [
    "def create_system_prompt() -> str:\n",
    "    return f\"\"\"\n",
    "You are an expert technical assistant helping extract part numbers from engineering documents.\n",
    "The input text comes from documents processed with Azure Document Intelligence and may include noise, formatting issues, or mixed content.\n",
    "\n",
    "Your task is to identify and extract all part numbers mentioned in the text.\n",
    "A part number may be referred to in various ways, including labels like part number, P/N, PN, item no., ref no., or may appear without a label in lists, tables, or inline references.\n",
    "\n",
    "Guidelines:\n",
    "- Return only the part numbers themselves, without explanations or extra text.\n",
    "- If a part number appears multiple times, return it only once.\n",
    "- A part number follow this format:\n",
    "    - Numeric: 13948521 (8 digits in a row)\n",
    "- Ignore irrelevant numbers such as page numbers, dates, or quantities.\n",
    "\n",
    "The output should be a JSON string with a single key \"part_numbers\" containing a list of unique part numbers (part_numbers: List[str]).\n",
    "{{\n",
    "  \"part_numbers\": [\"81233344\", \"11224344\", \"34229576\"]\n",
    "}}\n",
    "\"\"\".strip()"
   ]
  },
  {
   "cell_type": "code",
   "execution_count": 8,
   "id": "03ec9e2b",
   "metadata": {},
   "outputs": [],
   "source": [
    "def get_part_numbers(messages, model=\"gpt-4.1\"):\n",
    "    \"\"\"\n",
    "    Get part numbers from engineering documents using GPT-4.1\n",
    "    Args:\n",
    "        messages (list): List of message dictionaries with 'role' and 'content'\n",
    "        model (str): The model deployment name to use\n",
    "    Returns:\n",
    "        List[str]: Extracted part numbers\n",
    "    \"\"\"\n",
    "    try:\n",
    "        from openai import AzureOpenAI\n",
    "        client = AzureOpenAI(\n",
    "            azure_endpoint=azure_openai_endpoint,\n",
    "            api_key=azure_openai_api_key,\n",
    "            api_version=azure_openai_api_version\n",
    "        )\n",
    "\n",
    "        response = client.beta.chat.completions.parse(\n",
    "            model=model,\n",
    "            messages=messages,\n",
    "            temperature=0,\n",
    "            response_format=PartNumberExtraction\n",
    "        )\n",
    "        return response.choices[0].message.parsed.part_numbers\n",
    "    except Exception as e:\n",
    "        return f\"Error: {str(e)}\"\n"
   ]
  },
  {
   "cell_type": "code",
   "execution_count": 9,
   "id": "1a3223a3",
   "metadata": {},
   "outputs": [],
   "source": [
    "import tiktoken\n",
    "encoding = tiktoken.encoding_for_model('gpt-4o')"
   ]
  },
  {
   "cell_type": "code",
   "execution_count": 14,
   "id": "03f4459b",
   "metadata": {},
   "outputs": [
    {
     "name": "stdout",
     "output_type": "stream",
     "text": [
      "number of tokens: 17911\n",
      "number of tokens: 1616\n"
     ]
    }
   ],
   "source": [
    "part_numbers={}\n",
    "\n",
    "for i in range(len(documents)):\n",
    "    text_content = documents[i]['data']\n",
    "    print(f\"number of tokens: {len(encoding.encode(text_content))}\")\n",
    "\n",
    "    messages_list = [\n",
    "        {\"role\": \"system\", \"content\": create_system_prompt()},\n",
    "        {\"role\": \"user\", \"content\": create_user_message(text_content)}\n",
    "    ]\n",
    "    part_numbers[str(i)] = get_part_numbers(messages_list, azure_openai_chat_model)\n"
   ]
  },
  {
   "cell_type": "code",
   "execution_count": 16,
   "id": "4459a55c",
   "metadata": {},
   "outputs": [
    {
     "data": {
      "text/plain": [
       "{'0': [],\n",
       " '1': ['22994475',\n",
       "  '22994474',\n",
       "  '22994476',\n",
       "  '23648865',\n",
       "  '22986516',\n",
       "  '22986521',\n",
       "  '23833640',\n",
       "  '23833643',\n",
       "  '23833644',\n",
       "  '23921772',\n",
       "  '23920395',\n",
       "  '23921771']}"
      ]
     },
     "execution_count": 16,
     "metadata": {},
     "output_type": "execute_result"
    }
   ],
   "source": [
    "part_numbers"
   ]
  },
  {
   "cell_type": "code",
   "execution_count": null,
   "id": "8d3f351c",
   "metadata": {},
   "outputs": [],
   "source": []
  }
 ],
 "metadata": {
  "kernelspec": {
   "display_name": "pisa",
   "language": "python",
   "name": "python3"
  },
  "language_info": {
   "codemirror_mode": {
    "name": "ipython",
    "version": 3
   },
   "file_extension": ".py",
   "mimetype": "text/x-python",
   "name": "python",
   "nbconvert_exporter": "python",
   "pygments_lexer": "ipython3",
   "version": "3.11.11"
  }
 },
 "nbformat": 4,
 "nbformat_minor": 5
}
